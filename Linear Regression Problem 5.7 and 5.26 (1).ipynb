{
 "cells": [
  {
   "cell_type": "markdown",
   "id": "linear-colony",
   "metadata": {},
   "source": [
    "Experience with a certain type of plastic indicates that a relation exists between the hardness (measured in Brinell units) of items molded from the plastic (Y) and the elapsed time since termination of the molding process (X). It is proposed to study this relation by means of regression analysis. A participant in the discussion objects, pointing out that the hardening of the plastic “is the result of a natural chemical process that doesn’t leave anything to chance, so the relation must be mathematical and regression analysis is not appropriate.” Evaluate this objection.\n",
    "\n",
    "Sixteen batches of the plastic were made, and from each batch one test item was molded. Each test item was randomly assigned to one of the four predetermined time levels, and the hardness was measured after the assigned elapsed time. The results are shown below; X is the elapsed time in hours, and Y is hardness in Brinell units. Assume that first-order regression model is appropriate."
   ]
  },
  {
   "cell_type": "markdown",
   "id": "sticky-sydney",
   "metadata": {},
   "source": [
    "|Time(X) |Hardness (Y) |\n",
    "|---|-- |\n",
    "|16 |199|\n",
    "|16\t|205|\n",
    "|16\t|196|\n",
    "|16\t|200|\n",
    "|24\t|218|\n",
    "|24\t|220|\n",
    "|24\t|215|\n",
    "|24\t|223|\n",
    "|32\t|237|\n",
    "|32\t|234|\n",
    "|32\t|235|\n",
    "|32\t|230|\n",
    "|40\t|250|\n",
    "|40\t|248|\n",
    "|40\t|253|\n",
    "|40\t|246|"
   ]
  },
  {
   "cell_type": "code",
   "execution_count": 1,
   "id": "neural-arrow",
   "metadata": {},
   "outputs": [],
   "source": [
    "import numpy as np\n",
    "import seaborn as sns\n",
    "import pandas as pd\n",
    "import matplotlib.pyplot as plt"
   ]
  },
  {
   "cell_type": "code",
   "execution_count": 2,
   "id": "compliant-playlist",
   "metadata": {},
   "outputs": [
    {
     "data": {
      "text/plain": [
       "(16, 2)"
      ]
     },
     "execution_count": 2,
     "metadata": {},
     "output_type": "execute_result"
    }
   ],
   "source": [
    "data =np.matrix([[16,199], [16,205], [16,196], [16,200], [24,218], [24,220], \n",
    "             [24,215], [24,223], [32,237],[32,234], [32,235], [32,230],\n",
    "             [40,250], [40,248], [40,253], [40,246]])\n",
    "data.shape"
   ]
  },
  {
   "cell_type": "code",
   "execution_count": 3,
   "id": "careful-minority",
   "metadata": {},
   "outputs": [
    {
     "data": {
      "text/plain": [
       "matrix([[ 16., 199.,   1.],\n",
       "        [ 16., 205.,   1.],\n",
       "        [ 16., 196.,   1.],\n",
       "        [ 16., 200.,   1.],\n",
       "        [ 24., 218.,   1.],\n",
       "        [ 24., 220.,   1.],\n",
       "        [ 24., 215.,   1.],\n",
       "        [ 24., 223.,   1.],\n",
       "        [ 32., 237.,   1.],\n",
       "        [ 32., 234.,   1.],\n",
       "        [ 32., 235.,   1.],\n",
       "        [ 32., 230.,   1.],\n",
       "        [ 40., 250.,   1.],\n",
       "        [ 40., 248.,   1.],\n",
       "        [ 40., 253.,   1.],\n",
       "        [ 40., 246.,   1.]])"
      ]
     },
     "execution_count": 3,
     "metadata": {},
     "output_type": "execute_result"
    }
   ],
   "source": [
    "ones = np.ones((16,1))\n",
    "data = np.append(data, ones, axis=1)\n",
    "data"
   ]
  },
  {
   "cell_type": "code",
   "execution_count": 4,
   "id": "impressed-exchange",
   "metadata": {},
   "outputs": [
    {
     "data": {
      "text/plain": [
       "matrix([[ 1., 16.],\n",
       "        [ 1., 16.],\n",
       "        [ 1., 16.],\n",
       "        [ 1., 16.],\n",
       "        [ 1., 24.],\n",
       "        [ 1., 24.],\n",
       "        [ 1., 24.],\n",
       "        [ 1., 24.],\n",
       "        [ 1., 32.],\n",
       "        [ 1., 32.],\n",
       "        [ 1., 32.],\n",
       "        [ 1., 32.],\n",
       "        [ 1., 40.],\n",
       "        [ 1., 40.],\n",
       "        [ 1., 40.],\n",
       "        [ 1., 40.]])"
      ]
     },
     "execution_count": 4,
     "metadata": {},
     "output_type": "execute_result"
    }
   ],
   "source": [
    "X = data[:,[2,0]] \n",
    "X"
   ]
  },
  {
   "cell_type": "code",
   "execution_count": 5,
   "id": "outside-chinese",
   "metadata": {},
   "outputs": [
    {
     "data": {
      "text/plain": [
       "matrix([[199.],\n",
       "        [205.],\n",
       "        [196.],\n",
       "        [200.],\n",
       "        [218.],\n",
       "        [220.],\n",
       "        [215.],\n",
       "        [223.],\n",
       "        [237.],\n",
       "        [234.],\n",
       "        [235.],\n",
       "        [230.],\n",
       "        [250.],\n",
       "        [248.],\n",
       "        [253.],\n",
       "        [246.]])"
      ]
     },
     "execution_count": 5,
     "metadata": {},
     "output_type": "execute_result"
    }
   ],
   "source": [
    "Y = data[:,1]\n",
    "Y"
   ]
  },
  {
   "cell_type": "code",
   "execution_count": 6,
   "id": "satisfactory-emergency",
   "metadata": {},
   "outputs": [
    {
     "data": {
      "text/plain": [
       "matrix([[819499.]])"
      ]
     },
     "execution_count": 6,
     "metadata": {},
     "output_type": "execute_result"
    }
   ],
   "source": [
    "#Find Y'Y\n",
    "np.transpose(Y).dot(Y)"
   ]
  },
  {
   "cell_type": "code",
   "execution_count": 7,
   "id": "dried-adolescent",
   "metadata": {},
   "outputs": [
    {
     "data": {
      "text/plain": [
       "matrix([[   16.,   448.],\n",
       "        [  448., 13824.]])"
      ]
     },
     "execution_count": 7,
     "metadata": {},
     "output_type": "execute_result"
    }
   ],
   "source": [
    "#Find X'X\n",
    "np.transpose(X).dot(X)"
   ]
  },
  {
   "cell_type": "code",
   "execution_count": 8,
   "id": "guided-consensus",
   "metadata": {},
   "outputs": [
    {
     "data": {
      "text/plain": [
       "matrix([[  3609.],\n",
       "        [103656.]])"
      ]
     },
     "execution_count": 8,
     "metadata": {},
     "output_type": "execute_result"
    }
   ],
   "source": [
    "#Find X'Y\n",
    "np.transpose(X).dot(Y)"
   ]
  },
  {
   "cell_type": "markdown",
   "id": "sophisticated-penalty",
   "metadata": {},
   "source": [
    "The normal error regression model in matrix terms is $\\underset{n x 1}{Y} = \\underset{n x 2}{X} \\; \\underset{2 x 1}{\\beta}  +\\underset{nx1}{\\epsilon} $ where\n",
    "\n",
    "$\\underset{n x 1}{Y} = \\begin{pmatrix} Y_{1}\\\\ Y_{2}\\\\ Y_{3}\\\\ \\cdots\\\\ \\cdots\\\\ Y_{n}\\\\ \\end{pmatrix}$  $\\;$  $\\underset{n x 2}{X} = \\begin{pmatrix} 1 & X_{1}\\\\1 & X_{2}\\\\ 1 & X_{3}\\\\ 1&\\cdots\\\\ 1&\\cdots\\\\ 1 & X_{n}\\\\ \\end{pmatrix}$  $\\;$   $\\underset{2 x 1}{\\beta} = \\begin{pmatrix} \\beta_{0}\\\\ \\beta{1}\\end{pmatrix}$ $\\;$     $\\underset{nx1}{\\epsilon} = \\begin{pmatrix} \\epsilon_{1}\\\\ \\epsilon_{2}\\\\ \\epsilon_{3}\\\\ \\cdots\\\\ \\cdots\\\\ \\epsilon_{n}\\\\ \\end{pmatrix}$ \n",
    "\n",
    "Here $\\epsilon$ is a vector of independent normal random variables with $E\\{\\epsilon\\}=0$ and $\\sigma^2\\{\\epsilon\\}=\\sigma^2I$. \n",
    "\n",
    "\n",
    "\n",
    "$\\begin{pmatrix} Y_{1}\\\\ Y_{2}\\\\ Y_{3}\\\\ \\cdots\\\\ \\cdots\\\\ Y_{n}\\\\ \\end{pmatrix} =$ $\\begin{pmatrix} \\beta_{0} + \\beta_{1}X_{1}\\\\ \\beta_{0} + \\beta_{1}X_{2}\\\\\\beta_{0} + \\beta_{1}X_{3}\\\\ \\cdots  \\cdots\\\\ \\cdots  \\cdots\\\\  \\beta_{0} + \\beta_{1}X_{n}\\end{pmatrix} +$ $\\begin{pmatrix} \\epsilon_{1}\\\\ \\epsilon_{2}\\\\ \\epsilon_{3}\\\\ \\cdots\\\\ \\cdots\\\\ \\epsilon_{n}\\\\ \\end{pmatrix} =$ $\\begin{pmatrix} \\beta_{0} + \\beta_{1}X_{1} + \\epsilon_{1}\\\\ \\beta_{0} + \\beta_{1}X_{2} +\\epsilon_{2}\\\\\\beta_{0} + \\beta_{1}X_{3}+\\epsilon_{3}\\\\ \\cdots  \\cdots\\\\ \\cdots  \\cdots\\\\  \\beta_{0} + \\beta_{1}X_{n} +\\epsilon_{n}\\end{pmatrix}$\n",
    "\n",
    "The matrix above is often long and skinny in the linear regression case and therefore the matrix is inconsistent, otherwise a consistent matrix would be reduceable and a straight line would intersect each point. Multiplying $A^{T}$ to $A$ creates a square iinversable matrix, which is then inversed. All manipulations on the LHS must be balanced on the RHS. To isolate $x$ in $Ax=b$ we'd use matrix manipulation to find the equation $\\hat{x}\\ =\\ \\left(A^TA\\right)^{-1}A^T\\bar{b}$ "
   ]
  },
  {
   "cell_type": "markdown",
   "id": "packed-feelings",
   "metadata": {},
   "source": [
    "## Use matrix methods to obtain $(X'X)^{-1}$"
   ]
  },
  {
   "cell_type": "code",
   "execution_count": 9,
   "id": "polar-wallpaper",
   "metadata": {},
   "outputs": [
    {
     "data": {
      "text/plain": [
       "matrix([[ 0.675     , -0.021875  ],\n",
       "        [-0.021875  ,  0.00078125]])"
      ]
     },
     "execution_count": 9,
     "metadata": {},
     "output_type": "execute_result"
    }
   ],
   "source": [
    "np.linalg.inv(X.T @ X)"
   ]
  },
  {
   "cell_type": "markdown",
   "id": "close-animation",
   "metadata": {},
   "source": [
    "## Use matrix methods to obtain $b = (X'X)^{-1}X'Y$"
   ]
  },
  {
   "cell_type": "code",
   "execution_count": 10,
   "id": "premium-metallic",
   "metadata": {},
   "outputs": [
    {
     "data": {
      "text/plain": [
       "matrix([[168.6     ],\n",
       "        [  2.034375]])"
      ]
     },
     "execution_count": 10,
     "metadata": {},
     "output_type": "execute_result"
    }
   ],
   "source": [
    "b = np.linalg.inv(X.T @ X)@np.transpose(X)@Y\n",
    "b"
   ]
  },
  {
   "cell_type": "markdown",
   "id": "miniature-thumbnail",
   "metadata": {},
   "source": [
    "## Use matrix methods to find $\\hat{Y}$"
   ]
  },
  {
   "cell_type": "code",
   "execution_count": 11,
   "id": "aerial-hollow",
   "metadata": {},
   "outputs": [
    {
     "data": {
      "text/plain": [
       "matrix([[201.15 ],\n",
       "        [201.15 ],\n",
       "        [201.15 ],\n",
       "        [201.15 ],\n",
       "        [217.425],\n",
       "        [217.425],\n",
       "        [217.425],\n",
       "        [217.425],\n",
       "        [233.7  ],\n",
       "        [233.7  ],\n",
       "        [233.7  ],\n",
       "        [233.7  ],\n",
       "        [249.975],\n",
       "        [249.975],\n",
       "        [249.975],\n",
       "        [249.975]])"
      ]
     },
     "execution_count": 11,
     "metadata": {},
     "output_type": "execute_result"
    }
   ],
   "source": [
    "y_hat = X.dot(b)\n",
    "y_hat"
   ]
  },
  {
   "cell_type": "markdown",
   "id": "short-emergency",
   "metadata": {},
   "source": [
    "## Find H using matrix methods"
   ]
  },
  {
   "cell_type": "code",
   "execution_count": 12,
   "id": "modular-function",
   "metadata": {},
   "outputs": [
    {
     "data": {
      "text/plain": [
       "matrix([[ 0.175,  0.175,  0.175,  0.175,  0.1  ,  0.1  ,  0.1  ,  0.1  ,\n",
       "          0.025,  0.025,  0.025,  0.025, -0.05 , -0.05 , -0.05 , -0.05 ],\n",
       "        [ 0.175,  0.175,  0.175,  0.175,  0.1  ,  0.1  ,  0.1  ,  0.1  ,\n",
       "          0.025,  0.025,  0.025,  0.025, -0.05 , -0.05 , -0.05 , -0.05 ],\n",
       "        [ 0.175,  0.175,  0.175,  0.175,  0.1  ,  0.1  ,  0.1  ,  0.1  ,\n",
       "          0.025,  0.025,  0.025,  0.025, -0.05 , -0.05 , -0.05 , -0.05 ],\n",
       "        [ 0.175,  0.175,  0.175,  0.175,  0.1  ,  0.1  ,  0.1  ,  0.1  ,\n",
       "          0.025,  0.025,  0.025,  0.025, -0.05 , -0.05 , -0.05 , -0.05 ],\n",
       "        [ 0.1  ,  0.1  ,  0.1  ,  0.1  ,  0.075,  0.075,  0.075,  0.075,\n",
       "          0.05 ,  0.05 ,  0.05 ,  0.05 ,  0.025,  0.025,  0.025,  0.025],\n",
       "        [ 0.1  ,  0.1  ,  0.1  ,  0.1  ,  0.075,  0.075,  0.075,  0.075,\n",
       "          0.05 ,  0.05 ,  0.05 ,  0.05 ,  0.025,  0.025,  0.025,  0.025],\n",
       "        [ 0.1  ,  0.1  ,  0.1  ,  0.1  ,  0.075,  0.075,  0.075,  0.075,\n",
       "          0.05 ,  0.05 ,  0.05 ,  0.05 ,  0.025,  0.025,  0.025,  0.025],\n",
       "        [ 0.1  ,  0.1  ,  0.1  ,  0.1  ,  0.075,  0.075,  0.075,  0.075,\n",
       "          0.05 ,  0.05 ,  0.05 ,  0.05 ,  0.025,  0.025,  0.025,  0.025],\n",
       "        [ 0.025,  0.025,  0.025,  0.025,  0.05 ,  0.05 ,  0.05 ,  0.05 ,\n",
       "          0.075,  0.075,  0.075,  0.075,  0.1  ,  0.1  ,  0.1  ,  0.1  ],\n",
       "        [ 0.025,  0.025,  0.025,  0.025,  0.05 ,  0.05 ,  0.05 ,  0.05 ,\n",
       "          0.075,  0.075,  0.075,  0.075,  0.1  ,  0.1  ,  0.1  ,  0.1  ],\n",
       "        [ 0.025,  0.025,  0.025,  0.025,  0.05 ,  0.05 ,  0.05 ,  0.05 ,\n",
       "          0.075,  0.075,  0.075,  0.075,  0.1  ,  0.1  ,  0.1  ,  0.1  ],\n",
       "        [ 0.025,  0.025,  0.025,  0.025,  0.05 ,  0.05 ,  0.05 ,  0.05 ,\n",
       "          0.075,  0.075,  0.075,  0.075,  0.1  ,  0.1  ,  0.1  ,  0.1  ],\n",
       "        [-0.05 , -0.05 , -0.05 , -0.05 ,  0.025,  0.025,  0.025,  0.025,\n",
       "          0.1  ,  0.1  ,  0.1  ,  0.1  ,  0.175,  0.175,  0.175,  0.175],\n",
       "        [-0.05 , -0.05 , -0.05 , -0.05 ,  0.025,  0.025,  0.025,  0.025,\n",
       "          0.1  ,  0.1  ,  0.1  ,  0.1  ,  0.175,  0.175,  0.175,  0.175],\n",
       "        [-0.05 , -0.05 , -0.05 , -0.05 ,  0.025,  0.025,  0.025,  0.025,\n",
       "          0.1  ,  0.1  ,  0.1  ,  0.1  ,  0.175,  0.175,  0.175,  0.175],\n",
       "        [-0.05 , -0.05 , -0.05 , -0.05 ,  0.025,  0.025,  0.025,  0.025,\n",
       "          0.1  ,  0.1  ,  0.1  ,  0.1  ,  0.175,  0.175,  0.175,  0.175]])"
      ]
     },
     "execution_count": 12,
     "metadata": {},
     "output_type": "execute_result"
    }
   ],
   "source": [
    "#Use matrix methods to find H = X(X'X)^-1X'\n",
    "step1 = X.T.dot(X)\n",
    "step2 = np.linalg.inv(step1)\n",
    "step3 = X.dot(step2)\n",
    "H = step3.dot(X.T)\n",
    "H"
   ]
  },
  {
   "cell_type": "markdown",
   "id": "olympic-indianapolis",
   "metadata": {},
   "source": [
    "## Find SSE and MSE"
   ]
  },
  {
   "cell_type": "code",
   "execution_count": 13,
   "id": "constant-certification",
   "metadata": {},
   "outputs": [],
   "source": [
    "#Find SSE, Q, when Q = Y'Y-Beta'X'Y - Y'XBeta + Beta'X'XBeta\n",
    "S1 = Y.T.dot(Y)\n",
    "S2 = S1 - b.T.dot(X.T).dot(Y)\n",
    "S3 = S2 - Y.T.dot(X).dot(b)\n",
    "S4 = S3 + b.T.dot(X.T).dot(X).dot(b)\n",
    "\n",
    "def SSE_func(X,Y,Beta):\n",
    "    f= Y.T.dot(Y)-Beta.T.dot(X.T).dot(Y) - Y.T.dot(X).dot(b) + b.T.dot(X.T).dot(X).dot(b)\n",
    "    return f[0,0]\n",
    "\n",
    "def MSE_func(X,Y,Beta):\n",
    "    z= Y.T.dot(Y)-Beta.T.dot(X.T).dot(Y) - Y.T.dot(X).dot(b) + b.T.dot(X.T).dot(X).dot(b)\n",
    "    f= z/(len(X)-2)\n",
    "    return f[0,0]\n",
    "    "
   ]
  },
  {
   "cell_type": "code",
   "execution_count": 14,
   "id": "unable-niger",
   "metadata": {},
   "outputs": [
    {
     "data": {
      "text/plain": [
       "146.42500000004657"
      ]
     },
     "execution_count": 14,
     "metadata": {},
     "output_type": "execute_result"
    }
   ],
   "source": [
    "SSE = SSE_func(X,Y,b)\n",
    "SSE"
   ]
  },
  {
   "cell_type": "code",
   "execution_count": 15,
   "id": "embedded-african",
   "metadata": {},
   "outputs": [
    {
     "data": {
      "text/plain": [
       "10.458928571431898"
      ]
     },
     "execution_count": 15,
     "metadata": {},
     "output_type": "execute_result"
    }
   ],
   "source": [
    "MSE = MSE_func(X,Y,b)\n",
    "MSE"
   ]
  },
  {
   "cell_type": "markdown",
   "id": "objective-abortion",
   "metadata": {},
   "source": [
    "## Find $ \\sigma^{2} \\left \\{ b \\right \\}$"
   ]
  },
  {
   "cell_type": "markdown",
   "id": "compound-blackjack",
   "metadata": {},
   "source": [
    "The variance-covariance matrix of b is   $ \\sigma^{2} \\left \\{ b \\right \\} = \\begin{bmatrix}\n",
    "\\sigma^{2} \\left \\{ b_{0} \\right \\} & \\sigma \\left \\{ b_{0}, b_{1} \\right \\}  \\\\ \n",
    "\\sigma \\left \\{ b_{1}, b_{0} \\right \\}  & \\sigma^{2} \\left \\{ b_{1} \\right \\} \n",
    "\\end{bmatrix} $ also as$\\hspace{1 mm}$  $ \\sigma^{2} \\left \\{ b \\right \\} = \\sigma \\left(X'X^{-1} \\right)$. Substituting MSE for $\\sigma^{2}$ gives the estimated variance-covariance matrix for $b$,denoted by $s^{2}\\left\\{ b \\right\\}$."
   ]
  },
  {
   "cell_type": "code",
   "execution_count": 16,
   "id": "checked-cabinet",
   "metadata": {},
   "outputs": [
    {
     "data": {
      "text/plain": [
       "matrix([[ 7.05977679, -0.22878906],\n",
       "        [-0.22878906,  0.00817104]])"
      ]
     },
     "execution_count": 16,
     "metadata": {},
     "output_type": "execute_result"
    }
   ],
   "source": [
    "#find s^2(b) \n",
    "s_2b = MSE*np.linalg.inv(X.T.dot(X))\n",
    "s_2b"
   ]
  },
  {
   "cell_type": "markdown",
   "id": "corrected-virgin",
   "metadata": {},
   "source": [
    "Now, $s^{2}\\left \\{ b_{0} \\right \\}$="
   ]
  },
  {
   "cell_type": "code",
   "execution_count": 17,
   "id": "present-rates",
   "metadata": {},
   "outputs": [
    {
     "data": {
      "text/plain": [
       "7.059776785716535"
      ]
     },
     "execution_count": 17,
     "metadata": {},
     "output_type": "execute_result"
    }
   ],
   "source": [
    "s_2b[0,0]"
   ]
  },
  {
   "cell_type": "markdown",
   "id": "neural-upset",
   "metadata": {},
   "source": [
    "And, $s^{2}\\left \\{ b_{1} \\right \\}$="
   ]
  },
  {
   "cell_type": "code",
   "execution_count": 18,
   "id": "aggregate-checkout",
   "metadata": {},
   "outputs": [
    {
     "data": {
      "text/plain": [
       "0.008171037946431176"
      ]
     },
     "execution_count": 18,
     "metadata": {},
     "output_type": "execute_result"
    }
   ],
   "source": [
    "s_2b[1,1]"
   ]
  },
  {
   "cell_type": "markdown",
   "id": "waiting-inspiration",
   "metadata": {},
   "source": [
    "## Estimate the mean response of a new observation when $X_{h}=30$"
   ]
  },
  {
   "cell_type": "markdown",
   "id": "loving-celebration",
   "metadata": {},
   "source": [
    "$s^{2}\\left \\{ pred \\right \\} = MSE(1 + X_{h}^{'} (X'X)^{-1}X_{h}) $"
   ]
  },
  {
   "cell_type": "code",
   "execution_count": 19,
   "id": "knowing-abraham",
   "metadata": {},
   "outputs": [],
   "source": [
    "new = np.matrix([1,30])"
   ]
  },
  {
   "cell_type": "code",
   "execution_count": 20,
   "id": "afraid-breakfast",
   "metadata": {},
   "outputs": [
    {
     "data": {
      "text/plain": [
       "matrix([[11.14529576]])"
      ]
     },
     "execution_count": 20,
     "metadata": {},
     "output_type": "execute_result"
    }
   ],
   "source": [
    "s2_pred= MSE*(1+new * np.linalg.inv(X.T.dot(X)) * new.T)\n",
    "s2_pred"
   ]
  },
  {
   "cell_type": "markdown",
   "id": "strategic-capacity",
   "metadata": {},
   "source": [
    "## Find $s^{2}\\left \\{ b_{0} \\right \\}$, $s\\left \\{ b_{0},b_{1} \\right \\}$ and $s\\left \\{ b_{1} \\right \\}$"
   ]
  },
  {
   "cell_type": "code",
   "execution_count": 21,
   "id": "liked-kansas",
   "metadata": {},
   "outputs": [
    {
     "data": {
      "text/plain": [
       "7.059776785716535"
      ]
     },
     "execution_count": 21,
     "metadata": {},
     "output_type": "execute_result"
    }
   ],
   "source": [
    "#s^2{b0}\n",
    "s_2b[0,0]"
   ]
  },
  {
   "cell_type": "code",
   "execution_count": 22,
   "id": "joined-hundred",
   "metadata": {},
   "outputs": [
    {
     "data": {
      "text/plain": [
       "-0.2287890625000729"
      ]
     },
     "execution_count": 22,
     "metadata": {},
     "output_type": "execute_result"
    }
   ],
   "source": [
    "#s{b_0,b1}\n",
    "s_2b[0,1]"
   ]
  },
  {
   "cell_type": "code",
   "execution_count": 23,
   "id": "sized-gateway",
   "metadata": {
    "scrolled": false
   },
   "outputs": [
    {
     "data": {
      "text/plain": [
       "0.09039379373845959"
      ]
     },
     "execution_count": 23,
     "metadata": {},
     "output_type": "execute_result"
    }
   ],
   "source": [
    "#s{b_1}\n",
    "np.sqrt(s_2b[1,1])"
   ]
  },
  {
   "cell_type": "markdown",
   "id": "restricted-first",
   "metadata": {},
   "source": [
    "## Obtain the matrix of the quadratic form for SSE."
   ]
  },
  {
   "cell_type": "markdown",
   "id": "interesting-music",
   "metadata": {},
   "source": [
    "$SSE = Y'(I-H)Y$"
   ]
  },
  {
   "cell_type": "code",
   "execution_count": 36,
   "id": "vocal-riverside",
   "metadata": {},
   "outputs": [
    {
     "data": {
      "text/plain": [
       "matrix([[ 0.825, -0.175, -0.175, -0.175, -0.1  , -0.1  , -0.1  , -0.1  ,\n",
       "         -0.025, -0.025, -0.025, -0.025,  0.05 ,  0.05 ,  0.05 ,  0.05 ],\n",
       "        [-0.175,  0.825, -0.175, -0.175, -0.1  , -0.1  , -0.1  , -0.1  ,\n",
       "         -0.025, -0.025, -0.025, -0.025,  0.05 ,  0.05 ,  0.05 ,  0.05 ],\n",
       "        [-0.175, -0.175,  0.825, -0.175, -0.1  , -0.1  , -0.1  , -0.1  ,\n",
       "         -0.025, -0.025, -0.025, -0.025,  0.05 ,  0.05 ,  0.05 ,  0.05 ],\n",
       "        [-0.175, -0.175, -0.175,  0.825, -0.1  , -0.1  , -0.1  , -0.1  ,\n",
       "         -0.025, -0.025, -0.025, -0.025,  0.05 ,  0.05 ,  0.05 ,  0.05 ],\n",
       "        [-0.1  , -0.1  , -0.1  , -0.1  ,  0.925, -0.075, -0.075, -0.075,\n",
       "         -0.05 , -0.05 , -0.05 , -0.05 , -0.025, -0.025, -0.025, -0.025],\n",
       "        [-0.1  , -0.1  , -0.1  , -0.1  , -0.075,  0.925, -0.075, -0.075,\n",
       "         -0.05 , -0.05 , -0.05 , -0.05 , -0.025, -0.025, -0.025, -0.025],\n",
       "        [-0.1  , -0.1  , -0.1  , -0.1  , -0.075, -0.075,  0.925, -0.075,\n",
       "         -0.05 , -0.05 , -0.05 , -0.05 , -0.025, -0.025, -0.025, -0.025],\n",
       "        [-0.1  , -0.1  , -0.1  , -0.1  , -0.075, -0.075, -0.075,  0.925,\n",
       "         -0.05 , -0.05 , -0.05 , -0.05 , -0.025, -0.025, -0.025, -0.025],\n",
       "        [-0.025, -0.025, -0.025, -0.025, -0.05 , -0.05 , -0.05 , -0.05 ,\n",
       "          0.925, -0.075, -0.075, -0.075, -0.1  , -0.1  , -0.1  , -0.1  ],\n",
       "        [-0.025, -0.025, -0.025, -0.025, -0.05 , -0.05 , -0.05 , -0.05 ,\n",
       "         -0.075,  0.925, -0.075, -0.075, -0.1  , -0.1  , -0.1  , -0.1  ],\n",
       "        [-0.025, -0.025, -0.025, -0.025, -0.05 , -0.05 , -0.05 , -0.05 ,\n",
       "         -0.075, -0.075,  0.925, -0.075, -0.1  , -0.1  , -0.1  , -0.1  ],\n",
       "        [-0.025, -0.025, -0.025, -0.025, -0.05 , -0.05 , -0.05 , -0.05 ,\n",
       "         -0.075, -0.075, -0.075,  0.925, -0.1  , -0.1  , -0.1  , -0.1  ],\n",
       "        [ 0.05 ,  0.05 ,  0.05 ,  0.05 , -0.025, -0.025, -0.025, -0.025,\n",
       "         -0.1  , -0.1  , -0.1  , -0.1  ,  0.825, -0.175, -0.175, -0.175],\n",
       "        [ 0.05 ,  0.05 ,  0.05 ,  0.05 , -0.025, -0.025, -0.025, -0.025,\n",
       "         -0.1  , -0.1  , -0.1  , -0.1  , -0.175,  0.825, -0.175, -0.175],\n",
       "        [ 0.05 ,  0.05 ,  0.05 ,  0.05 , -0.025, -0.025, -0.025, -0.025,\n",
       "         -0.1  , -0.1  , -0.1  , -0.1  , -0.175, -0.175,  0.825, -0.175],\n",
       "        [ 0.05 ,  0.05 ,  0.05 ,  0.05 , -0.025, -0.025, -0.025, -0.025,\n",
       "         -0.1  , -0.1  , -0.1  , -0.1  , -0.175, -0.175, -0.175,  0.825]])"
      ]
     },
     "execution_count": 36,
     "metadata": {},
     "output_type": "execute_result"
    }
   ],
   "source": [
    "np.identity(H.shape[0])-H"
   ]
  },
  {
   "cell_type": "code",
   "execution_count": null,
   "id": "indian-conference",
   "metadata": {},
   "outputs": [],
   "source": [
    " "
   ]
  }
 ],
 "metadata": {
  "kernelspec": {
   "display_name": "Python 3",
   "language": "python",
   "name": "python3"
  },
  "language_info": {
   "codemirror_mode": {
    "name": "ipython",
    "version": 3
   },
   "file_extension": ".py",
   "mimetype": "text/x-python",
   "name": "python",
   "nbconvert_exporter": "python",
   "pygments_lexer": "ipython3",
   "version": "3.6.12"
  }
 },
 "nbformat": 4,
 "nbformat_minor": 5
}
