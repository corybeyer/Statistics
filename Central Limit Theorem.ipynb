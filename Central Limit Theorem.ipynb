{
 "cells": [
  {
   "cell_type": "markdown",
   "metadata": {},
   "source": [
    "Central Limit Theorem\n",
    "\n",
    "As the sample size n gets larger, the distribution of the sample means more closely approximates a normal distribution. Generally, this is valid when n >= 30. "
   ]
  },
  {
   "cell_type": "code",
   "execution_count": 1,
   "metadata": {},
   "outputs": [],
   "source": [
    "import numpy as np\n",
    "from scipy.stats import norm\n",
    "import matplotlib.pyplot as plt\n",
    "import seaborn as sns\n",
    "%matplotlib inline\n",
    "np.random.seed(101)\n",
    "\n",
    "import warnings\n",
    "warnings.filterwarnings(\"ignore\")"
   ]
  },
  {
   "cell_type": "code",
   "execution_count": 2,
   "metadata": {
    "scrolled": true
   },
   "outputs": [
    {
     "name": "stdout",
     "output_type": "stream",
     "text": [
      "The population average is 5011.947796243817\n",
      "The population stdv is 2895.6949888868025\n"
     ]
    },
    {
     "data": {
      "image/png": "[encoded data removed]",
      "text/plain": [
       "<Figure size 432x288 with 1 Axes>"
      ]
     },
     "metadata": {
      "needs_background": "light"
     },
     "output_type": "display_data"
    }
   ],
   "source": [
    "data = np.random.uniform(0,10000,size=10000)\n",
    "plt.hist(data, bins=100);\n",
    "mu = np.mean(data)\n",
    "sigma = np.std(data)\n",
    "\n",
    "print(\"The population average is {}\".format(mu))\n",
    "print(\"The population stdv is {}\".format(sigma))"
   ]
  },
  {
   "cell_type": "code",
   "execution_count": 3,
   "metadata": {},
   "outputs": [
    {
     "name": "stdout",
     "output_type": "stream",
     "text": [
      "The population average is 4952.73650934437\n"
     ]
    }
   ],
   "source": [
    "# Create a list\n",
    "sampled_means3 = []\n",
    "\n",
    "for i in range(0,500):\n",
    "    sampled_means3.append(np.random.choice(data, 3).mean())\n",
    "print(\"The population average is {}\".format(np.mean(sampled_means3)))"
   ]
  },
  {
   "cell_type": "code",
   "execution_count": 4,
   "metadata": {},
   "outputs": [
    {
     "name": "stdout",
     "output_type": "stream",
     "text": [
      "The population average is 4996.376963385278\n"
     ]
    }
   ],
   "source": [
    "# Create a list\n",
    "sampled_means30 = []\n",
    "\n",
    "for i in range(0,500):\n",
    "    sampled_means30.append(np.random.choice(data, 30).mean())\n",
    "    \n",
    "print(\"The population average is {}\".format(np.mean(sampled_means30)))"
   ]
  },
  {
   "cell_type": "code",
   "execution_count": 5,
   "metadata": {},
   "outputs": [
    {
     "name": "stdout",
     "output_type": "stream",
     "text": [
      "The population average is 5017.514187957555\n"
     ]
    }
   ],
   "source": [
    "# Create a list\n",
    "sampled_means300 = []\n",
    "\n",
    "for i in range(0,500):\n",
    "    sampled_means300.append(np.random.choice(data, 300).mean())\n",
    "    \n",
    "print(\"The population average is {}\".format(np.mean(sampled_means300)))"
   ]
  },
  {
   "cell_type": "code",
   "execution_count": 6,
   "metadata": {},
   "outputs": [],
   "source": [
    "three = np.random.normal(np.mean(sampled_means3), sigma//len(sampled_means3), 1000)\n",
    "thirty = np.random.normal(np.mean(sampled_means30), sigma//len(sampled_means30), 1000)\n",
    "threeHund = np.random.normal(np.mean(sampled_means300), sigma//len(sampled_means300), 1000)\n"
   ]
  },
  {
   "cell_type": "code",
   "execution_count": 7,
   "metadata": {},
   "outputs": [
    {
     "data": {
      "text/plain": [
       "<matplotlib.lines.Line2D at 0x181dd840250>"
      ]
     },
     "execution_count": 7,
     "metadata": {},
     "output_type": "execute_result"
    },
    {
     "data": {
      "image/png": "[encoded data removed]",
      "text/plain": [
       "<Figure size 1152x288 with 3 Axes>"
      ]
     },
     "metadata": {
      "needs_background": "light"
     },
     "output_type": "display_data"
    }
   ],
   "source": [
    "fix, axs = plt.subplots(1,3, figsize=(16,4))\n",
    "axs[0].hist(three, bins=10);\n",
    "axs[0].axvline(x=mu,color= 'red')\n",
    "axs[1].hist(thirty, bins=10);\n",
    "axs[1].axvline(x=mu,color= 'red')\n",
    "axs[2].hist(threeHund, bins=10);\n",
    "axs[2].axvline(x=mu,color= 'red')"
   ]
  }
 ],
 "metadata": {
  "kernelspec": {
   "display_name": "Python 3",
   "language": "python",
   "name": "python3"
  },
  "language_info": {
   "codemirror_mode": {
    "name": "ipython",
    "version": 3
   },
   "file_extension": ".py",
   "mimetype": "text/x-python",
   "name": "python",
   "nbconvert_exporter": "python",
   "pygments_lexer": "ipython3",
   "version": "3.8.5"
  }
 },
 "nbformat": 4,
 "nbformat_minor": 4
}
